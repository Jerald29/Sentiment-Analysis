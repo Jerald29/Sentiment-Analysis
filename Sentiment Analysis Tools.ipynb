{
  "nbformat": 4,
  "nbformat_minor": 0,
  "metadata": {
    "colab": {
      "provenance": []
    },
    "kernelspec": {
      "name": "python3",
      "display_name": "Python 3"
    },
    "language_info": {
      "name": "python"
    }
  },
  "cells": [
    {
      "cell_type": "markdown",
      "source": [
        "# Sentiment Analysis"
      ],
      "metadata": {
        "id": "CVpxIoAvZeTe"
      }
    },
    {
      "cell_type": "markdown",
      "source": [
        "# Installation"
      ],
      "metadata": {
        "id": "GCB2KBWhZ3om"
      }
    },
    {
      "cell_type": "code",
      "source": [
        "!pip install matplotlib pandas nltk textblob"
      ],
      "metadata": {
        "colab": {
          "base_uri": "https://localhost:8080/"
        },
        "id": "x8pRKhGAB-f_",
        "outputId": "99cc5e6c-6d83-4128-9d0d-dd06b31a5f28"
      },
      "execution_count": 1,
      "outputs": [
        {
          "output_type": "stream",
          "name": "stdout",
          "text": [
            "Requirement already satisfied: matplotlib in /usr/local/lib/python3.10/dist-packages (3.7.1)\n",
            "Requirement already satisfied: pandas in /usr/local/lib/python3.10/dist-packages (1.5.3)\n",
            "Requirement already satisfied: nltk in /usr/local/lib/python3.10/dist-packages (3.8.1)\n",
            "Requirement already satisfied: textblob in /usr/local/lib/python3.10/dist-packages (0.17.1)\n",
            "Requirement already satisfied: contourpy>=1.0.1 in /usr/local/lib/python3.10/dist-packages (from matplotlib) (1.1.1)\n",
            "Requirement already satisfied: cycler>=0.10 in /usr/local/lib/python3.10/dist-packages (from matplotlib) (0.12.1)\n",
            "Requirement already satisfied: fonttools>=4.22.0 in /usr/local/lib/python3.10/dist-packages (from matplotlib) (4.43.1)\n",
            "Requirement already satisfied: kiwisolver>=1.0.1 in /usr/local/lib/python3.10/dist-packages (from matplotlib) (1.4.5)\n",
            "Requirement already satisfied: numpy>=1.20 in /usr/local/lib/python3.10/dist-packages (from matplotlib) (1.23.5)\n",
            "Requirement already satisfied: packaging>=20.0 in /usr/local/lib/python3.10/dist-packages (from matplotlib) (23.2)\n",
            "Requirement already satisfied: pillow>=6.2.0 in /usr/local/lib/python3.10/dist-packages (from matplotlib) (9.4.0)\n",
            "Requirement already satisfied: pyparsing>=2.3.1 in /usr/local/lib/python3.10/dist-packages (from matplotlib) (3.1.1)\n",
            "Requirement already satisfied: python-dateutil>=2.7 in /usr/local/lib/python3.10/dist-packages (from matplotlib) (2.8.2)\n",
            "Requirement already satisfied: pytz>=2020.1 in /usr/local/lib/python3.10/dist-packages (from pandas) (2023.3.post1)\n",
            "Requirement already satisfied: click in /usr/local/lib/python3.10/dist-packages (from nltk) (8.1.7)\n",
            "Requirement already satisfied: joblib in /usr/local/lib/python3.10/dist-packages (from nltk) (1.3.2)\n",
            "Requirement already satisfied: regex>=2021.8.3 in /usr/local/lib/python3.10/dist-packages (from nltk) (2023.6.3)\n",
            "Requirement already satisfied: tqdm in /usr/local/lib/python3.10/dist-packages (from nltk) (4.66.1)\n",
            "Requirement already satisfied: six>=1.5 in /usr/local/lib/python3.10/dist-packages (from python-dateutil>=2.7->matplotlib) (1.16.0)\n"
          ]
        }
      ]
    },
    {
      "cell_type": "code",
      "source": [
        "import nltk\n",
        "nltk.download('vader_lexicon')\n",
        "nltk.download('movie_reviews')\n",
        "nltk.download('punkt')"
      ],
      "metadata": {
        "colab": {
          "base_uri": "https://localhost:8080/"
        },
        "id": "zgOQDV9laSK9",
        "outputId": "826e4af9-5cc0-4c1f-c89c-23ff4d5aec68"
      },
      "execution_count": 2,
      "outputs": [
        {
          "output_type": "stream",
          "name": "stderr",
          "text": [
            "[nltk_data] Downloading package vader_lexicon to /root/nltk_data...\n",
            "[nltk_data] Downloading package movie_reviews to /root/nltk_data...\n",
            "[nltk_data]   Unzipping corpora/movie_reviews.zip.\n",
            "[nltk_data] Downloading package punkt to /root/nltk_data...\n",
            "[nltk_data]   Unzipping tokenizers/punkt.zip.\n"
          ]
        },
        {
          "output_type": "execute_result",
          "data": {
            "text/plain": [
              "True"
            ]
          },
          "metadata": {},
          "execution_count": 2
        }
      ]
    },
    {
      "cell_type": "markdown",
      "source": [
        "Sentiment Analysis with NLTK"
      ],
      "metadata": {
        "id": "FA_zubm5bPDm"
      }
    },
    {
      "cell_type": "code",
      "source": [
        "from nltk.sentiment.vader import SentimentIntensityAnalyzer as SIA\n",
        "\n",
        "sia = SIA()\n",
        "sia.polarity_scores(\"This restaurant was great, but I'm not sure if I'll go there again.\")"
      ],
      "metadata": {
        "colab": {
          "base_uri": "https://localhost:8080/"
        },
        "id": "-fy3PLKCbSfu",
        "outputId": "6958ea1e-cfd2-433e-fd1e-c6556b683603"
      },
      "execution_count": 3,
      "outputs": [
        {
          "output_type": "execute_result",
          "data": {
            "text/plain": [
              "{'neg': 0.153, 'neu': 0.688, 'pos': 0.159, 'compound': 0.0276}"
            ]
          },
          "metadata": {},
          "execution_count": 3
        }
      ]
    },
    {
      "cell_type": "markdown",
      "source": [
        "Without emoticon"
      ],
      "metadata": {
        "id": "WjxqRahOiaJS"
      }
    },
    {
      "cell_type": "code",
      "source": [
        "text = \"I just got a call from my boss - does he realise it's Saturday?\"\n",
        "sia.polarity_scores(text)"
      ],
      "metadata": {
        "colab": {
          "base_uri": "https://localhost:8080/"
        },
        "id": "Q_Er-0Wjb259",
        "outputId": "9fd922f9-b0a7-4bfc-84e7-250334d52769"
      },
      "execution_count": 4,
      "outputs": [
        {
          "output_type": "execute_result",
          "data": {
            "text/plain": [
              "{'neg': 0.0, 'neu': 1.0, 'pos': 0.0, 'compound': 0.0}"
            ]
          },
          "metadata": {},
          "execution_count": 4
        }
      ]
    },
    {
      "cell_type": "markdown",
      "source": [
        "With emoticon"
      ],
      "metadata": {
        "id": "WWTsi4-1cgmk"
      }
    },
    {
      "cell_type": "code",
      "source": [
        "text = \"I just got a call from my boss - does he realise it's Saturday? :)\"\n",
        "sia.polarity_scores(text)"
      ],
      "metadata": {
        "colab": {
          "base_uri": "https://localhost:8080/"
        },
        "id": "4VNHZVL8cas1",
        "outputId": "9fa68949-9559-416f-f0f2-cf0f84794dbd"
      },
      "execution_count": 5,
      "outputs": [
        {
          "output_type": "execute_result",
          "data": {
            "text/plain": [
              "{'neg': 0.0, 'neu': 0.786, 'pos': 0.214, 'compound': 0.4588}"
            ]
          },
          "metadata": {},
          "execution_count": 5
        }
      ]
    },
    {
      "cell_type": "markdown",
      "source": [
        "With emoji"
      ],
      "metadata": {
        "id": "Bm1u3q7gcj2V"
      }
    },
    {
      "cell_type": "code",
      "source": [
        "text = \"I just got a call from my boss - does he realise it's Saturday? 😊\"\n",
        "sia.polarity_scores(text)"
      ],
      "metadata": {
        "colab": {
          "base_uri": "https://localhost:8080/"
        },
        "id": "WwwyYG4Scl3N",
        "outputId": "3554207d-c991-4f91-9d6f-8f90f84ab6b2"
      },
      "execution_count": 6,
      "outputs": [
        {
          "output_type": "execute_result",
          "data": {
            "text/plain": [
              "{'neg': 0.0, 'neu': 1.0, 'pos': 0.0, 'compound': 0.0}"
            ]
          },
          "metadata": {},
          "execution_count": 6
        }
      ]
    },
    {
      "cell_type": "markdown",
      "source": [
        "**Back to neutral!** Text analysis tools only knows the words that they've been taught, and if VADER's never seen 😊 before it won't know what to think of it."
      ],
      "metadata": {
        "id": "_0hV7bt4dWPl"
      }
    },
    {
      "cell_type": "markdown",
      "source": [
        "# TextBlob\n",
        "TextBlob is built on top of NLTK"
      ],
      "metadata": {
        "id": "h0Yba4zsd2v0"
      }
    },
    {
      "cell_type": "code",
      "source": [
        "from textblob import TextBlob\n",
        "from textblob import Blobber\n",
        "from textblob.sentiments import NaiveBayesAnalyzer"
      ],
      "metadata": {
        "id": "HMn91q1ed-q1"
      },
      "execution_count": 7,
      "outputs": []
    },
    {
      "cell_type": "code",
      "source": [
        "blob = TextBlob(\"This restaurant was great, but I'm not sure if I'll go there again.\")\n",
        "blob.sentiment"
      ],
      "metadata": {
        "colab": {
          "base_uri": "https://localhost:8080/"
        },
        "id": "LWvp_WY-eGHM",
        "outputId": "cb7bd5f1-f51a-4c54-e8be-9fda7738789b"
      },
      "execution_count": 8,
      "outputs": [
        {
          "output_type": "execute_result",
          "data": {
            "text/plain": [
              "Sentiment(polarity=0.275, subjectivity=0.8194444444444444)"
            ]
          },
          "metadata": {},
          "execution_count": 8
        }
      ]
    },
    {
      "cell_type": "code",
      "source": [
        "blobber = Blobber(analyzer=NaiveBayesAnalyzer())\n",
        "\n",
        "blob = blobber(\"This restaurant was great, but I'm not sure if I'll go there again.\")\n",
        "blob.sentiment"
      ],
      "metadata": {
        "colab": {
          "base_uri": "https://localhost:8080/"
        },
        "id": "FU7068EYeQ2t",
        "outputId": "d128ef74-5465-4ee1-e212-da702ee21a86"
      },
      "execution_count": 9,
      "outputs": [
        {
          "output_type": "execute_result",
          "data": {
            "text/plain": [
              "Sentiment(classification='pos', p_pos=0.5879425317005774, p_neg=0.41205746829942275)"
            ]
          },
          "metadata": {},
          "execution_count": 9
        }
      ]
    },
    {
      "cell_type": "markdown",
      "source": [
        "# Analyzing differences in sentiment analysis tools"
      ],
      "metadata": {
        "id": "lINAuJmkefTc"
      }
    },
    {
      "cell_type": "markdown",
      "source": [
        "# 1."
      ],
      "metadata": {
        "id": "Z9gKjnIyeu1M"
      }
    },
    {
      "cell_type": "code",
      "source": [
        "import pandas as pd\n",
        "pd.set_option(\"display.max_colwidth\", 200)\n",
        "\n",
        "df = pd.DataFrame({'content': [\n",
        "    \"I love love love love this kitten\",\n",
        "    \"I hate hate hate hate this keyboard\",\n",
        "    \"I'm not sure how I feel about toast\",\n",
        "    \"Did you see the baseball game yesterday?\",\n",
        "    \"The package was delivered late and the contents were broken\",\n",
        "    \"Trashy television shows are some of my favorites\",\n",
        "    \"I'm seeing a Kubrick film tomorrow, I hear not so great things about it.\",\n",
        "    \"I find chirping birds irritating, but I know I'm not the only one\",\n",
        "]})\n",
        "df"
      ],
      "metadata": {
        "colab": {
          "base_uri": "https://localhost:8080/",
          "height": 300
        },
        "id": "ptKt8TC9eg-E",
        "outputId": "ee96aa3f-ad82-4d8d-ae3f-a0824fac7448"
      },
      "execution_count": 10,
      "outputs": [
        {
          "output_type": "execute_result",
          "data": {
            "text/plain": [
              "                                                                    content\n",
              "0                                         I love love love love this kitten\n",
              "1                                       I hate hate hate hate this keyboard\n",
              "2                                       I'm not sure how I feel about toast\n",
              "3                                  Did you see the baseball game yesterday?\n",
              "4               The package was delivered late and the contents were broken\n",
              "5                          Trashy television shows are some of my favorites\n",
              "6  I'm seeing a Kubrick film tomorrow, I hear not so great things about it.\n",
              "7         I find chirping birds irritating, but I know I'm not the only one"
            ],
            "text/html": [
              "\n",
              "  <div id=\"df-0829182c-d5cb-4e4e-8d08-27d553978815\" class=\"colab-df-container\">\n",
              "    <div>\n",
              "<style scoped>\n",
              "    .dataframe tbody tr th:only-of-type {\n",
              "        vertical-align: middle;\n",
              "    }\n",
              "\n",
              "    .dataframe tbody tr th {\n",
              "        vertical-align: top;\n",
              "    }\n",
              "\n",
              "    .dataframe thead th {\n",
              "        text-align: right;\n",
              "    }\n",
              "</style>\n",
              "<table border=\"1\" class=\"dataframe\">\n",
              "  <thead>\n",
              "    <tr style=\"text-align: right;\">\n",
              "      <th></th>\n",
              "      <th>content</th>\n",
              "    </tr>\n",
              "  </thead>\n",
              "  <tbody>\n",
              "    <tr>\n",
              "      <th>0</th>\n",
              "      <td>I love love love love this kitten</td>\n",
              "    </tr>\n",
              "    <tr>\n",
              "      <th>1</th>\n",
              "      <td>I hate hate hate hate this keyboard</td>\n",
              "    </tr>\n",
              "    <tr>\n",
              "      <th>2</th>\n",
              "      <td>I'm not sure how I feel about toast</td>\n",
              "    </tr>\n",
              "    <tr>\n",
              "      <th>3</th>\n",
              "      <td>Did you see the baseball game yesterday?</td>\n",
              "    </tr>\n",
              "    <tr>\n",
              "      <th>4</th>\n",
              "      <td>The package was delivered late and the contents were broken</td>\n",
              "    </tr>\n",
              "    <tr>\n",
              "      <th>5</th>\n",
              "      <td>Trashy television shows are some of my favorites</td>\n",
              "    </tr>\n",
              "    <tr>\n",
              "      <th>6</th>\n",
              "      <td>I'm seeing a Kubrick film tomorrow, I hear not so great things about it.</td>\n",
              "    </tr>\n",
              "    <tr>\n",
              "      <th>7</th>\n",
              "      <td>I find chirping birds irritating, but I know I'm not the only one</td>\n",
              "    </tr>\n",
              "  </tbody>\n",
              "</table>\n",
              "</div>\n",
              "    <div class=\"colab-df-buttons\">\n",
              "\n",
              "  <div class=\"colab-df-container\">\n",
              "    <button class=\"colab-df-convert\" onclick=\"convertToInteractive('df-0829182c-d5cb-4e4e-8d08-27d553978815')\"\n",
              "            title=\"Convert this dataframe to an interactive table.\"\n",
              "            style=\"display:none;\">\n",
              "\n",
              "  <svg xmlns=\"http://www.w3.org/2000/svg\" height=\"24px\" viewBox=\"0 -960 960 960\">\n",
              "    <path d=\"M120-120v-720h720v720H120Zm60-500h600v-160H180v160Zm220 220h160v-160H400v160Zm0 220h160v-160H400v160ZM180-400h160v-160H180v160Zm440 0h160v-160H620v160ZM180-180h160v-160H180v160Zm440 0h160v-160H620v160Z\"/>\n",
              "  </svg>\n",
              "    </button>\n",
              "\n",
              "  <style>\n",
              "    .colab-df-container {\n",
              "      display:flex;\n",
              "      gap: 12px;\n",
              "    }\n",
              "\n",
              "    .colab-df-convert {\n",
              "      background-color: #E8F0FE;\n",
              "      border: none;\n",
              "      border-radius: 50%;\n",
              "      cursor: pointer;\n",
              "      display: none;\n",
              "      fill: #1967D2;\n",
              "      height: 32px;\n",
              "      padding: 0 0 0 0;\n",
              "      width: 32px;\n",
              "    }\n",
              "\n",
              "    .colab-df-convert:hover {\n",
              "      background-color: #E2EBFA;\n",
              "      box-shadow: 0px 1px 2px rgba(60, 64, 67, 0.3), 0px 1px 3px 1px rgba(60, 64, 67, 0.15);\n",
              "      fill: #174EA6;\n",
              "    }\n",
              "\n",
              "    .colab-df-buttons div {\n",
              "      margin-bottom: 4px;\n",
              "    }\n",
              "\n",
              "    [theme=dark] .colab-df-convert {\n",
              "      background-color: #3B4455;\n",
              "      fill: #D2E3FC;\n",
              "    }\n",
              "\n",
              "    [theme=dark] .colab-df-convert:hover {\n",
              "      background-color: #434B5C;\n",
              "      box-shadow: 0px 1px 3px 1px rgba(0, 0, 0, 0.15);\n",
              "      filter: drop-shadow(0px 1px 2px rgba(0, 0, 0, 0.3));\n",
              "      fill: #FFFFFF;\n",
              "    }\n",
              "  </style>\n",
              "\n",
              "    <script>\n",
              "      const buttonEl =\n",
              "        document.querySelector('#df-0829182c-d5cb-4e4e-8d08-27d553978815 button.colab-df-convert');\n",
              "      buttonEl.style.display =\n",
              "        google.colab.kernel.accessAllowed ? 'block' : 'none';\n",
              "\n",
              "      async function convertToInteractive(key) {\n",
              "        const element = document.querySelector('#df-0829182c-d5cb-4e4e-8d08-27d553978815');\n",
              "        const dataTable =\n",
              "          await google.colab.kernel.invokeFunction('convertToInteractive',\n",
              "                                                    [key], {});\n",
              "        if (!dataTable) return;\n",
              "\n",
              "        const docLinkHtml = 'Like what you see? Visit the ' +\n",
              "          '<a target=\"_blank\" href=https://colab.research.google.com/notebooks/data_table.ipynb>data table notebook</a>'\n",
              "          + ' to learn more about interactive tables.';\n",
              "        element.innerHTML = '';\n",
              "        dataTable['output_type'] = 'display_data';\n",
              "        await google.colab.output.renderOutput(dataTable, element);\n",
              "        const docLink = document.createElement('div');\n",
              "        docLink.innerHTML = docLinkHtml;\n",
              "        element.appendChild(docLink);\n",
              "      }\n",
              "    </script>\n",
              "  </div>\n",
              "\n",
              "\n",
              "<div id=\"df-77ca14fb-aebf-4943-b9e4-e1a3aa975631\">\n",
              "  <button class=\"colab-df-quickchart\" onclick=\"quickchart('df-77ca14fb-aebf-4943-b9e4-e1a3aa975631')\"\n",
              "            title=\"Suggest charts.\"\n",
              "            style=\"display:none;\">\n",
              "\n",
              "<svg xmlns=\"http://www.w3.org/2000/svg\" height=\"24px\"viewBox=\"0 0 24 24\"\n",
              "     width=\"24px\">\n",
              "    <g>\n",
              "        <path d=\"M19 3H5c-1.1 0-2 .9-2 2v14c0 1.1.9 2 2 2h14c1.1 0 2-.9 2-2V5c0-1.1-.9-2-2-2zM9 17H7v-7h2v7zm4 0h-2V7h2v10zm4 0h-2v-4h2v4z\"/>\n",
              "    </g>\n",
              "</svg>\n",
              "  </button>\n",
              "\n",
              "<style>\n",
              "  .colab-df-quickchart {\n",
              "      --bg-color: #E8F0FE;\n",
              "      --fill-color: #1967D2;\n",
              "      --hover-bg-color: #E2EBFA;\n",
              "      --hover-fill-color: #174EA6;\n",
              "      --disabled-fill-color: #AAA;\n",
              "      --disabled-bg-color: #DDD;\n",
              "  }\n",
              "\n",
              "  [theme=dark] .colab-df-quickchart {\n",
              "      --bg-color: #3B4455;\n",
              "      --fill-color: #D2E3FC;\n",
              "      --hover-bg-color: #434B5C;\n",
              "      --hover-fill-color: #FFFFFF;\n",
              "      --disabled-bg-color: #3B4455;\n",
              "      --disabled-fill-color: #666;\n",
              "  }\n",
              "\n",
              "  .colab-df-quickchart {\n",
              "    background-color: var(--bg-color);\n",
              "    border: none;\n",
              "    border-radius: 50%;\n",
              "    cursor: pointer;\n",
              "    display: none;\n",
              "    fill: var(--fill-color);\n",
              "    height: 32px;\n",
              "    padding: 0;\n",
              "    width: 32px;\n",
              "  }\n",
              "\n",
              "  .colab-df-quickchart:hover {\n",
              "    background-color: var(--hover-bg-color);\n",
              "    box-shadow: 0 1px 2px rgba(60, 64, 67, 0.3), 0 1px 3px 1px rgba(60, 64, 67, 0.15);\n",
              "    fill: var(--button-hover-fill-color);\n",
              "  }\n",
              "\n",
              "  .colab-df-quickchart-complete:disabled,\n",
              "  .colab-df-quickchart-complete:disabled:hover {\n",
              "    background-color: var(--disabled-bg-color);\n",
              "    fill: var(--disabled-fill-color);\n",
              "    box-shadow: none;\n",
              "  }\n",
              "\n",
              "  .colab-df-spinner {\n",
              "    border: 2px solid var(--fill-color);\n",
              "    border-color: transparent;\n",
              "    border-bottom-color: var(--fill-color);\n",
              "    animation:\n",
              "      spin 1s steps(1) infinite;\n",
              "  }\n",
              "\n",
              "  @keyframes spin {\n",
              "    0% {\n",
              "      border-color: transparent;\n",
              "      border-bottom-color: var(--fill-color);\n",
              "      border-left-color: var(--fill-color);\n",
              "    }\n",
              "    20% {\n",
              "      border-color: transparent;\n",
              "      border-left-color: var(--fill-color);\n",
              "      border-top-color: var(--fill-color);\n",
              "    }\n",
              "    30% {\n",
              "      border-color: transparent;\n",
              "      border-left-color: var(--fill-color);\n",
              "      border-top-color: var(--fill-color);\n",
              "      border-right-color: var(--fill-color);\n",
              "    }\n",
              "    40% {\n",
              "      border-color: transparent;\n",
              "      border-right-color: var(--fill-color);\n",
              "      border-top-color: var(--fill-color);\n",
              "    }\n",
              "    60% {\n",
              "      border-color: transparent;\n",
              "      border-right-color: var(--fill-color);\n",
              "    }\n",
              "    80% {\n",
              "      border-color: transparent;\n",
              "      border-right-color: var(--fill-color);\n",
              "      border-bottom-color: var(--fill-color);\n",
              "    }\n",
              "    90% {\n",
              "      border-color: transparent;\n",
              "      border-bottom-color: var(--fill-color);\n",
              "    }\n",
              "  }\n",
              "</style>\n",
              "\n",
              "  <script>\n",
              "    async function quickchart(key) {\n",
              "      const quickchartButtonEl =\n",
              "        document.querySelector('#' + key + ' button');\n",
              "      quickchartButtonEl.disabled = true;  // To prevent multiple clicks.\n",
              "      quickchartButtonEl.classList.add('colab-df-spinner');\n",
              "      try {\n",
              "        const charts = await google.colab.kernel.invokeFunction(\n",
              "            'suggestCharts', [key], {});\n",
              "      } catch (error) {\n",
              "        console.error('Error during call to suggestCharts:', error);\n",
              "      }\n",
              "      quickchartButtonEl.classList.remove('colab-df-spinner');\n",
              "      quickchartButtonEl.classList.add('colab-df-quickchart-complete');\n",
              "    }\n",
              "    (() => {\n",
              "      let quickchartButtonEl =\n",
              "        document.querySelector('#df-77ca14fb-aebf-4943-b9e4-e1a3aa975631 button');\n",
              "      quickchartButtonEl.style.display =\n",
              "        google.colab.kernel.accessAllowed ? 'block' : 'none';\n",
              "    })();\n",
              "  </script>\n",
              "</div>\n",
              "    </div>\n",
              "  </div>\n"
            ]
          },
          "metadata": {},
          "execution_count": 10
        }
      ]
    },
    {
      "cell_type": "markdown",
      "source": [
        "# 2."
      ],
      "metadata": {
        "id": "_jax7gxKe0Xx"
      }
    },
    {
      "cell_type": "code",
      "source": [
        "def get_scores(content):\n",
        "    blob = TextBlob(content)\n",
        "    nb_blob = blobber(content)\n",
        "    sia_scores = sia.polarity_scores(content)\n",
        "\n",
        "    return pd.Series({\n",
        "        'content': content,\n",
        "        'textblob': blob.sentiment.polarity,\n",
        "        'textblob_bayes': nb_blob.sentiment.p_pos - nb_blob.sentiment.p_neg,\n",
        "        'nltk': sia_scores['compound'],\n",
        "    })\n",
        "\n",
        "scores = df.content.apply(get_scores)\n",
        "scores.style.background_gradient(cmap='RdYlGn', axis=None, low=0.4, high=0.4)"
      ],
      "metadata": {
        "colab": {
          "base_uri": "https://localhost:8080/",
          "height": 300
        },
        "id": "bEDQ8imKeocs",
        "outputId": "8e94ae92-2c1e-4eed-9589-9bf1c03f57a1"
      },
      "execution_count": 11,
      "outputs": [
        {
          "output_type": "execute_result",
          "data": {
            "text/plain": [
              "<pandas.io.formats.style.Styler at 0x7b34ef7bea40>"
            ],
            "text/html": [
              "<style type=\"text/css\">\n",
              "#T_3c874_row0_col1 {\n",
              "  background-color: #c3e67d;\n",
              "  color: #000000;\n",
              "}\n",
              "#T_3c874_row0_col2 {\n",
              "  background-color: #fff6b0;\n",
              "  color: #000000;\n",
              "}\n",
              "#T_3c874_row0_col3 {\n",
              "  background-color: #73c264;\n",
              "  color: #000000;\n",
              "}\n",
              "#T_3c874_row1_col1 {\n",
              "  background-color: #fa9656;\n",
              "  color: #000000;\n",
              "}\n",
              "#T_3c874_row1_col2 {\n",
              "  background-color: #feeb9d;\n",
              "  color: #000000;\n",
              "}\n",
              "#T_3c874_row1_col3 {\n",
              "  background-color: #f67a49;\n",
              "  color: #f1f1f1;\n",
              "}\n",
              "#T_3c874_row2_col1, #T_3c874_row7_col3 {\n",
              "  background-color: #fee797;\n",
              "  color: #000000;\n",
              "}\n",
              "#T_3c874_row2_col2 {\n",
              "  background-color: #d3ec87;\n",
              "  color: #000000;\n",
              "}\n",
              "#T_3c874_row2_col3 {\n",
              "  background-color: #fee999;\n",
              "  color: #000000;\n",
              "}\n",
              "#T_3c874_row3_col1 {\n",
              "  background-color: #fed683;\n",
              "  color: #000000;\n",
              "}\n",
              "#T_3c874_row3_col2 {\n",
              "  background-color: #b1de71;\n",
              "  color: #000000;\n",
              "}\n",
              "#T_3c874_row3_col3, #T_3c874_row5_col1 {\n",
              "  background-color: #fffebe;\n",
              "  color: #000000;\n",
              "}\n",
              "#T_3c874_row4_col1 {\n",
              "  background-color: #fede89;\n",
              "  color: #000000;\n",
              "}\n",
              "#T_3c874_row4_col2 {\n",
              "  background-color: #fdbd6d;\n",
              "  color: #000000;\n",
              "}\n",
              "#T_3c874_row4_col3 {\n",
              "  background-color: #feca79;\n",
              "  color: #000000;\n",
              "}\n",
              "#T_3c874_row5_col2 {\n",
              "  background-color: #fbfdba;\n",
              "  color: #000000;\n",
              "}\n",
              "#T_3c874_row5_col3 {\n",
              "  background-color: #cfeb85;\n",
              "  color: #000000;\n",
              "}\n",
              "#T_3c874_row6_col1 {\n",
              "  background-color: #91d068;\n",
              "  color: #000000;\n",
              "}\n",
              "#T_3c874_row6_col2 {\n",
              "  background-color: #a0d669;\n",
              "  color: #000000;\n",
              "}\n",
              "#T_3c874_row6_col3 {\n",
              "  background-color: #fdb567;\n",
              "  color: #000000;\n",
              "}\n",
              "#T_3c874_row7_col1 {\n",
              "  background-color: #feec9f;\n",
              "  color: #000000;\n",
              "}\n",
              "#T_3c874_row7_col2 {\n",
              "  background-color: #e3f399;\n",
              "  color: #000000;\n",
              "}\n",
              "</style>\n",
              "<table id=\"T_3c874\" class=\"dataframe\">\n",
              "  <thead>\n",
              "    <tr>\n",
              "      <th class=\"blank level0\" >&nbsp;</th>\n",
              "      <th id=\"T_3c874_level0_col0\" class=\"col_heading level0 col0\" >content</th>\n",
              "      <th id=\"T_3c874_level0_col1\" class=\"col_heading level0 col1\" >textblob</th>\n",
              "      <th id=\"T_3c874_level0_col2\" class=\"col_heading level0 col2\" >textblob_bayes</th>\n",
              "      <th id=\"T_3c874_level0_col3\" class=\"col_heading level0 col3\" >nltk</th>\n",
              "    </tr>\n",
              "  </thead>\n",
              "  <tbody>\n",
              "    <tr>\n",
              "      <th id=\"T_3c874_level0_row0\" class=\"row_heading level0 row0\" >0</th>\n",
              "      <td id=\"T_3c874_row0_col0\" class=\"data row0 col0\" >I love love love love this kitten</td>\n",
              "      <td id=\"T_3c874_row0_col1\" class=\"data row0 col1\" >0.500000</td>\n",
              "      <td id=\"T_3c874_row0_col2\" class=\"data row0 col2\" >-0.087933</td>\n",
              "      <td id=\"T_3c874_row0_col3\" class=\"data row0 col3\" >0.957100</td>\n",
              "    </tr>\n",
              "    <tr>\n",
              "      <th id=\"T_3c874_level0_row1\" class=\"row_heading level0 row1\" >1</th>\n",
              "      <td id=\"T_3c874_row1_col0\" class=\"data row1 col0\" >I hate hate hate hate this keyboard</td>\n",
              "      <td id=\"T_3c874_row1_col1\" class=\"data row1 col1\" >-0.800000</td>\n",
              "      <td id=\"T_3c874_row1_col2\" class=\"data row1 col2\" >-0.214151</td>\n",
              "      <td id=\"T_3c874_row1_col3\" class=\"data row1 col3\" >-0.941300</td>\n",
              "    </tr>\n",
              "    <tr>\n",
              "      <th id=\"T_3c874_level0_row2\" class=\"row_heading level0 row2\" >2</th>\n",
              "      <td id=\"T_3c874_row2_col0\" class=\"data row2 col0\" >I'm not sure how I feel about toast</td>\n",
              "      <td id=\"T_3c874_row2_col1\" class=\"data row2 col1\" >-0.250000</td>\n",
              "      <td id=\"T_3c874_row2_col2\" class=\"data row2 col2\" >0.394659</td>\n",
              "      <td id=\"T_3c874_row2_col3\" class=\"data row2 col3\" >-0.241100</td>\n",
              "    </tr>\n",
              "    <tr>\n",
              "      <th id=\"T_3c874_level0_row3\" class=\"row_heading level0 row3\" >3</th>\n",
              "      <td id=\"T_3c874_row3_col0\" class=\"data row3 col0\" >Did you see the baseball game yesterday?</td>\n",
              "      <td id=\"T_3c874_row3_col1\" class=\"data row3 col1\" >-0.400000</td>\n",
              "      <td id=\"T_3c874_row3_col2\" class=\"data row3 col2\" >0.613050</td>\n",
              "      <td id=\"T_3c874_row3_col3\" class=\"data row3 col3\" >0.000000</td>\n",
              "    </tr>\n",
              "    <tr>\n",
              "      <th id=\"T_3c874_level0_row4\" class=\"row_heading level0 row4\" >4</th>\n",
              "      <td id=\"T_3c874_row4_col0\" class=\"data row4 col0\" >The package was delivered late and the contents were broken</td>\n",
              "      <td id=\"T_3c874_row4_col1\" class=\"data row4 col1\" >-0.350000</td>\n",
              "      <td id=\"T_3c874_row4_col2\" class=\"data row4 col2\" >-0.574270</td>\n",
              "      <td id=\"T_3c874_row4_col3\" class=\"data row4 col3\" >-0.476700</td>\n",
              "    </tr>\n",
              "    <tr>\n",
              "      <th id=\"T_3c874_level0_row5\" class=\"row_heading level0 row5\" >5</th>\n",
              "      <td id=\"T_3c874_row5_col0\" class=\"data row5 col0\" >Trashy television shows are some of my favorites</td>\n",
              "      <td id=\"T_3c874_row5_col1\" class=\"data row5 col1\" >0.000000</td>\n",
              "      <td id=\"T_3c874_row5_col2\" class=\"data row5 col2\" >0.040076</td>\n",
              "      <td id=\"T_3c874_row5_col3\" class=\"data row5 col3\" >0.421500</td>\n",
              "    </tr>\n",
              "    <tr>\n",
              "      <th id=\"T_3c874_level0_row6\" class=\"row_heading level0 row6\" >6</th>\n",
              "      <td id=\"T_3c874_row6_col0\" class=\"data row6 col0\" >I'm seeing a Kubrick film tomorrow, I hear not so great things about it.</td>\n",
              "      <td id=\"T_3c874_row6_col1\" class=\"data row6 col1\" >0.800000</td>\n",
              "      <td id=\"T_3c874_row6_col2\" class=\"data row6 col2\" >0.717875</td>\n",
              "      <td id=\"T_3c874_row6_col3\" class=\"data row6 col3\" >-0.629600</td>\n",
              "    </tr>\n",
              "    <tr>\n",
              "      <th id=\"T_3c874_level0_row7\" class=\"row_heading level0 row7\" >7</th>\n",
              "      <td id=\"T_3c874_row7_col0\" class=\"data row7 col0\" >I find chirping birds irritating, but I know I'm not the only one</td>\n",
              "      <td id=\"T_3c874_row7_col1\" class=\"data row7 col1\" >-0.200000</td>\n",
              "      <td id=\"T_3c874_row7_col2\" class=\"data row7 col2\" >0.257148</td>\n",
              "      <td id=\"T_3c874_row7_col3\" class=\"data row7 col3\" >-0.250000</td>\n",
              "    </tr>\n",
              "  </tbody>\n",
              "</table>\n"
            ]
          },
          "metadata": {},
          "execution_count": 11
        }
      ]
    }
  ]
}